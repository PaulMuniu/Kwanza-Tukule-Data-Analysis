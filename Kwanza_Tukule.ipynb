{
 "cells": [
  {
   "cell_type": "markdown",
   "metadata": {},
   "source": [
    "# 'Kwanza Tukule' Sales Data Analysis and Insights.\n",
    "*By Muniu Paul ™️*"
   ]
  },
  {
   "cell_type": "markdown",
   "metadata": {},
   "source": [
    "## 1. Business Understanding.\n",
    "### Overview.\n",
    "Kwanza Tukule is a cashless B2B business that leverages technology and an efficient supply chain to ensure accessible and affordable nutritious food for the many in Kenya. By focusing on street food vendors and kiosks, which serve as critical food access points in low-income areas, Kwanza Tukule addresses the challenges of affordability and availability of ingredients. The company sources essential products directly from manufacturers and delivers them through last-mile distribution, cutting out intermediaries and offering products at affordable rates to vendors, thus reducing food costs for the local population.\n",
    "\n",
    "### Problem Statement.\n",
    "This project aims to analyze anonymized sales data to derive actionable insights that will help Kwanza Tukule optimize its operations, better serve its vendors, and improve access to affordable food. The insights will focus on understanding sales trends, customer behavior, and inventory management to inform business decisions.\n",
    "\n",
    "### Objectives.\n",
    "1. Data Cleaning and Preparation: Cleaning and preparing the dataset.\n",
    "2. Sales Analysis: Analyzing trends and performance to understand the business context.\n",
    "3. Forecasting and Segmentation: Performing advanced analysis like forecasting and customer segmentation.\n",
    "4. Recommendations: Providing actionable recommendations to improve operations.\n",
    "5. Dashboard Creation: Creating an interactive dashboard that summarizes your findings.\n",
    "\n",
    "### Stakeholder : \n",
    "**Kwanza Tukule Foods Limited** - A B2B company focused on providing accessible, affordable, and nutritious food to street food vendors and kiosks in low-income areas of Kenya."
   ]
  },
  {
   "cell_type": "markdown",
   "metadata": {},
   "source": [
    "# 2. Data Understanding.\n",
    "The dataset provided by **Kwanza Tukule** contains anonymized sales data. You can access it [here](dataset/Case%20Study%20Data%20-%20Read%20Only%20-%20case_study_data_2025-01-16T06_49_12.19881Z.csv)."
   ]
  },
  {
   "cell_type": "markdown",
   "metadata": {},
   "source": [
    "##### Importing packages/libraries"
   ]
  },
  {
   "cell_type": "code",
   "execution_count": 1,
   "metadata": {},
   "outputs": [],
   "source": [
    "import pandas as pd\n",
    "import numpy as np\n",
    "import seaborn as sns\n",
    "import matplotlib.pyplot as plt\n",
    "%matplotlib inline\n",
    "\n",
    "import warnings\n",
    "warnings.filterwarnings('ignore')"
   ]
  },
  {
   "cell_type": "code",
   "execution_count": 9,
   "metadata": {},
   "outputs": [
    {
     "data": {
      "text/html": [
       "<div>\n",
       "<style scoped>\n",
       "    .dataframe tbody tr th:only-of-type {\n",
       "        vertical-align: middle;\n",
       "    }\n",
       "\n",
       "    .dataframe tbody tr th {\n",
       "        vertical-align: top;\n",
       "    }\n",
       "\n",
       "    .dataframe thead th {\n",
       "        text-align: right;\n",
       "    }\n",
       "</style>\n",
       "<table border=\"1\" class=\"dataframe\">\n",
       "  <thead>\n",
       "    <tr style=\"text-align: right;\">\n",
       "      <th></th>\n",
       "      <th>DATE</th>\n",
       "      <th>ANONYMIZED CATEGORY</th>\n",
       "      <th>ANONYMIZED PRODUCT</th>\n",
       "      <th>ANONYMIZED BUSINESS</th>\n",
       "      <th>ANONYMIZED LOCATION</th>\n",
       "      <th>QUANTITY</th>\n",
       "      <th>UNIT PRICE</th>\n",
       "    </tr>\n",
       "  </thead>\n",
       "  <tbody>\n",
       "    <tr>\n",
       "      <th>0</th>\n",
       "      <td>August 18, 2024, 9:32 PM</td>\n",
       "      <td>Category-106</td>\n",
       "      <td>Product-21f4</td>\n",
       "      <td>Business-de42</td>\n",
       "      <td>Location-1ba8</td>\n",
       "      <td>1</td>\n",
       "      <td>850</td>\n",
       "    </tr>\n",
       "    <tr>\n",
       "      <th>1</th>\n",
       "      <td>August 18, 2024, 9:32 PM</td>\n",
       "      <td>Category-120</td>\n",
       "      <td>Product-4156</td>\n",
       "      <td>Business-de42</td>\n",
       "      <td>Location-1ba8</td>\n",
       "      <td>2</td>\n",
       "      <td>1,910</td>\n",
       "    </tr>\n",
       "    <tr>\n",
       "      <th>2</th>\n",
       "      <td>August 18, 2024, 9:32 PM</td>\n",
       "      <td>Category-121</td>\n",
       "      <td>Product-49bd</td>\n",
       "      <td>Business-de42</td>\n",
       "      <td>Location-1ba8</td>\n",
       "      <td>1</td>\n",
       "      <td>3,670</td>\n",
       "    </tr>\n",
       "    <tr>\n",
       "      <th>3</th>\n",
       "      <td>August 18, 2024, 9:32 PM</td>\n",
       "      <td>Category-76</td>\n",
       "      <td>Product-61dd</td>\n",
       "      <td>Business-de42</td>\n",
       "      <td>Location-1ba8</td>\n",
       "      <td>1</td>\n",
       "      <td>2,605</td>\n",
       "    </tr>\n",
       "    <tr>\n",
       "      <th>4</th>\n",
       "      <td>August 18, 2024, 9:32 PM</td>\n",
       "      <td>Category-119</td>\n",
       "      <td>Product-66e0</td>\n",
       "      <td>Business-de42</td>\n",
       "      <td>Location-1ba8</td>\n",
       "      <td>5</td>\n",
       "      <td>1,480</td>\n",
       "    </tr>\n",
       "  </tbody>\n",
       "</table>\n",
       "</div>"
      ],
      "text/plain": [
       "                       DATE ANONYMIZED CATEGORY ANONYMIZED PRODUCT  \\\n",
       "0  August 18, 2024, 9:32 PM        Category-106       Product-21f4   \n",
       "1  August 18, 2024, 9:32 PM        Category-120       Product-4156   \n",
       "2  August 18, 2024, 9:32 PM        Category-121       Product-49bd   \n",
       "3  August 18, 2024, 9:32 PM         Category-76       Product-61dd   \n",
       "4  August 18, 2024, 9:32 PM        Category-119       Product-66e0   \n",
       "\n",
       "  ANONYMIZED BUSINESS ANONYMIZED LOCATION  QUANTITY UNIT PRICE  \n",
       "0       Business-de42       Location-1ba8         1        850  \n",
       "1       Business-de42       Location-1ba8         2      1,910  \n",
       "2       Business-de42       Location-1ba8         1      3,670  \n",
       "3       Business-de42       Location-1ba8         1      2,605  \n",
       "4       Business-de42       Location-1ba8         5      1,480  "
      ]
     },
     "execution_count": 9,
     "metadata": {},
     "output_type": "execute_result"
    }
   ],
   "source": [
    "# check the first 5 rows\n",
    "data = pd.read_csv('dataset/Case Study Data.csv')\n",
    "data.head()"
   ]
  },
  {
   "cell_type": "code",
   "execution_count": 10,
   "metadata": {},
   "outputs": [
    {
     "name": "stdout",
     "output_type": "stream",
     "text": [
      "<class 'pandas.core.frame.DataFrame'>\n",
      "RangeIndex: 333405 entries, 0 to 333404\n",
      "Data columns (total 7 columns):\n",
      " #   Column               Non-Null Count   Dtype \n",
      "---  ------               --------------   ----- \n",
      " 0   DATE                 333405 non-null  object\n",
      " 1   ANONYMIZED CATEGORY  333405 non-null  object\n",
      " 2   ANONYMIZED PRODUCT   333405 non-null  object\n",
      " 3   ANONYMIZED BUSINESS  333405 non-null  object\n",
      " 4   ANONYMIZED LOCATION  333405 non-null  object\n",
      " 5   QUANTITY             333405 non-null  int64 \n",
      " 6   UNIT PRICE           333397 non-null  object\n",
      "dtypes: int64(1), object(6)\n",
      "memory usage: 17.8+ MB\n"
     ]
    }
   ],
   "source": [
    "data.info()"
   ]
  },
  {
   "cell_type": "markdown",
   "metadata": {},
   "source": [
    "The dataset consists of 333,405 rows and 7 columns. The features include:\n",
    "\n",
    "`DATE`: The date of the transaction.\n",
    "\n",
    "`ANONYMIZED CATEGORY`: The category of the product sold.\n",
    "\n",
    "`ANONYMIZED PRODUCT`: The specific product that was sold.\n",
    "\n",
    "`ANONYMIZED BUSINESS`: The business that made the sale.\n",
    "\n",
    "`ANONYMIZED LOCATION`: The location of the transaction.\n",
    "\n",
    "`QUANTITY`: The number of units sold in the transaction.\n",
    "\n",
    "`UNIT PRICE`: The price per unit of the product."
   ]
  },
  {
   "cell_type": "markdown",
   "metadata": {},
   "source": [
    "# SECTION 1: Data Cleaning and Preparation."
   ]
  },
  {
   "cell_type": "markdown",
   "metadata": {},
   "source": [
    "## (a) Data Quality Assessment."
   ]
  },
  {
   "cell_type": "markdown",
   "metadata": {},
   "source": [
    "#### i. Check for missing values"
   ]
  },
  {
   "cell_type": "code",
   "execution_count": 23,
   "metadata": {},
   "outputs": [
    {
     "data": {
      "text/plain": [
       "DATE                        0\n",
       "ANONYMIZED CATEGORY         0\n",
       "ANONYMIZED PRODUCT          0\n",
       "ANONYMIZED BUSINESS         0\n",
       "ANONYMIZED LOCATION         0\n",
       "QUANTITY                    0\n",
       "UNIT PRICE             275299\n",
       "dtype: int64"
      ]
     },
     "execution_count": 23,
     "metadata": {},
     "output_type": "execute_result"
    }
   ],
   "source": [
    "missing_values = data.isnull().sum()\n",
    "missing_values"
   ]
  },
  {
   "cell_type": "markdown",
   "metadata": {},
   "source": [
    "- Action Taken.\n",
    "\n",
    "Given that the rest of the dataset had no missing values, I decided to drop the rows with missing values in the 'UNIT PRICE' column to avoid introducing bias into the analysis."
   ]
  },
  {
   "cell_type": "code",
   "execution_count": 24,
   "metadata": {},
   "outputs": [],
   "source": [
    "data.dropna(subset=['UNIT PRICE'], inplace=True)"
   ]
  },
  {
   "cell_type": "code",
   "execution_count": 25,
   "metadata": {},
   "outputs": [
    {
     "data": {
      "text/plain": [
       "DATE                   0\n",
       "ANONYMIZED CATEGORY    0\n",
       "ANONYMIZED PRODUCT     0\n",
       "ANONYMIZED BUSINESS    0\n",
       "ANONYMIZED LOCATION    0\n",
       "QUANTITY               0\n",
       "UNIT PRICE             0\n",
       "dtype: int64"
      ]
     },
     "execution_count": 25,
     "metadata": {},
     "output_type": "execute_result"
    }
   ],
   "source": [
    "# Verify that no missing values remain\n",
    "missing_values_after = data.isnull().sum()\n",
    "missing_values_after\n"
   ]
  },
  {
   "cell_type": "markdown",
   "metadata": {},
   "source": [
    "#### ii. Check dublicates\n",
    "\n"
   ]
  },
  {
   "cell_type": "code",
   "execution_count": 26,
   "metadata": {},
   "outputs": [
    {
     "data": {
      "text/plain": [
       "0"
      ]
     },
     "execution_count": 26,
     "metadata": {},
     "output_type": "execute_result"
    }
   ],
   "source": [
    "data.duplicated().sum()"
   ]
  },
  {
   "cell_type": "markdown",
   "metadata": {},
   "source": [
    "- Action Taken:\n",
    "\n",
    "Discovered that 3,524 duplicate rows are present. Duplicate rows can skew analysis and lead to inaccurate insights, so it was essential to address this issue by dropping them."
   ]
  },
  {
   "cell_type": "code",
   "execution_count": 27,
   "metadata": {},
   "outputs": [],
   "source": [
    "data.drop_duplicates(inplace=True)"
   ]
  },
  {
   "cell_type": "code",
   "execution_count": 28,
   "metadata": {},
   "outputs": [
    {
     "data": {
      "text/plain": [
       "0"
      ]
     },
     "execution_count": 28,
     "metadata": {},
     "output_type": "execute_result"
    }
   ],
   "source": [
    "# countercheck duplicates\n",
    "data.duplicated().sum()"
   ]
  },
  {
   "cell_type": "markdown",
   "metadata": {},
   "source": [
    "### iii. check for inconsistent data types."
   ]
  },
  {
   "cell_type": "code",
   "execution_count": 29,
   "metadata": {},
   "outputs": [
    {
     "data": {
      "text/plain": [
       "DATE                   datetime64[ns]\n",
       "ANONYMIZED CATEGORY            object\n",
       "ANONYMIZED PRODUCT             object\n",
       "ANONYMIZED BUSINESS            object\n",
       "ANONYMIZED LOCATION            object\n",
       "QUANTITY                        int64\n",
       "UNIT PRICE                    float64\n",
       "dtype: object"
      ]
     },
     "execution_count": 29,
     "metadata": {},
     "output_type": "execute_result"
    }
   ],
   "source": [
    "data.dtypes"
   ]
  },
  {
   "cell_type": "markdown",
   "metadata": {},
   "source": [
    "- Action Taken\n",
    "\n",
    "Upon inspecting the data types:\n",
    "The DATE column is stored as an object but should be converted to a datetime format and the UNIT PRICE column is stored as an object this needs to be converted to a numeric format (float)."
   ]
  },
  {
   "cell_type": "code",
   "execution_count": 30,
   "metadata": {},
   "outputs": [],
   "source": [
    "# convert the date column to datetime\n",
    "data['DATE'] = pd.to_datetime(data['DATE'], errors='coerce')\n",
    "\n",
    "#convert the Unit Price column to float\n",
    "data['UNIT PRICE'] = pd.to_numeric(data['UNIT PRICE'], errors='coerce')"
   ]
  },
  {
   "cell_type": "code",
   "execution_count": 31,
   "metadata": {},
   "outputs": [
    {
     "data": {
      "text/plain": [
       "DATE                   datetime64[ns]\n",
       "ANONYMIZED CATEGORY            object\n",
       "ANONYMIZED PRODUCT             object\n",
       "ANONYMIZED BUSINESS            object\n",
       "ANONYMIZED LOCATION            object\n",
       "QUANTITY                        int64\n",
       "UNIT PRICE                    float64\n",
       "dtype: object"
      ]
     },
     "execution_count": 31,
     "metadata": {},
     "output_type": "execute_result"
    }
   ],
   "source": [
    "# Counterccheck the data types\n",
    "data.dtypes"
   ]
  },
  {
   "cell_type": "markdown",
   "metadata": {},
   "source": [
    "## (b) Feature Engineering.\n",
    "- Creating the \"Month-Year\" Column.\n",
    "\n",
    "This part involves creating a new column called Month-Year. We'll extract the month and year from the DATE column."
   ]
  },
  {
   "cell_type": "code",
   "execution_count": 32,
   "metadata": {},
   "outputs": [],
   "source": [
    "# Create 'Month-Year' column\n",
    "data['Month-Year'] = data['DATE'].dt.strftime('%B %Y')"
   ]
  },
  {
   "cell_type": "code",
   "execution_count": 35,
   "metadata": {},
   "outputs": [
    {
     "data": {
      "text/html": [
       "<div>\n",
       "<style scoped>\n",
       "    .dataframe tbody tr th:only-of-type {\n",
       "        vertical-align: middle;\n",
       "    }\n",
       "\n",
       "    .dataframe tbody tr th {\n",
       "        vertical-align: top;\n",
       "    }\n",
       "\n",
       "    .dataframe thead th {\n",
       "        text-align: right;\n",
       "    }\n",
       "</style>\n",
       "<table border=\"1\" class=\"dataframe\">\n",
       "  <thead>\n",
       "    <tr style=\"text-align: right;\">\n",
       "      <th></th>\n",
       "      <th>DATE</th>\n",
       "      <th>ANONYMIZED CATEGORY</th>\n",
       "      <th>ANONYMIZED PRODUCT</th>\n",
       "      <th>ANONYMIZED BUSINESS</th>\n",
       "      <th>ANONYMIZED LOCATION</th>\n",
       "      <th>QUANTITY</th>\n",
       "      <th>UNIT PRICE</th>\n",
       "      <th>Month-Year</th>\n",
       "    </tr>\n",
       "  </thead>\n",
       "  <tbody>\n",
       "    <tr>\n",
       "      <th>0</th>\n",
       "      <td>2024-08-18 21:32:00</td>\n",
       "      <td>Category-106</td>\n",
       "      <td>Product-21f4</td>\n",
       "      <td>Business-de42</td>\n",
       "      <td>Location-1ba8</td>\n",
       "      <td>1</td>\n",
       "      <td>850.0</td>\n",
       "      <td>August 2024</td>\n",
       "    </tr>\n",
       "    <tr>\n",
       "      <th>8</th>\n",
       "      <td>2024-08-18 21:32:00</td>\n",
       "      <td>Category-96</td>\n",
       "      <td>Product-87b2</td>\n",
       "      <td>Business-de42</td>\n",
       "      <td>Location-1ba8</td>\n",
       "      <td>1</td>\n",
       "      <td>805.0</td>\n",
       "      <td>August 2024</td>\n",
       "    </tr>\n",
       "    <tr>\n",
       "      <th>14</th>\n",
       "      <td>2024-11-25 16:42:00</td>\n",
       "      <td>Category-82</td>\n",
       "      <td>Product-91f3</td>\n",
       "      <td>Business-aab8</td>\n",
       "      <td>Location-128a</td>\n",
       "      <td>1</td>\n",
       "      <td>815.0</td>\n",
       "      <td>November 2024</td>\n",
       "    </tr>\n",
       "    <tr>\n",
       "      <th>16</th>\n",
       "      <td>2024-11-25 16:42:00</td>\n",
       "      <td>Category-78</td>\n",
       "      <td>Product-b409</td>\n",
       "      <td>Business-aab8</td>\n",
       "      <td>Location-128a</td>\n",
       "      <td>1</td>\n",
       "      <td>750.0</td>\n",
       "      <td>November 2024</td>\n",
       "    </tr>\n",
       "    <tr>\n",
       "      <th>24</th>\n",
       "      <td>2024-05-23 20:22:00</td>\n",
       "      <td>Category-91</td>\n",
       "      <td>Product-32b3</td>\n",
       "      <td>Business-22a2</td>\n",
       "      <td>Location-c2f2</td>\n",
       "      <td>3</td>\n",
       "      <td>640.0</td>\n",
       "      <td>May 2024</td>\n",
       "    </tr>\n",
       "  </tbody>\n",
       "</table>\n",
       "</div>"
      ],
      "text/plain": [
       "                  DATE ANONYMIZED CATEGORY ANONYMIZED PRODUCT  \\\n",
       "0  2024-08-18 21:32:00        Category-106       Product-21f4   \n",
       "8  2024-08-18 21:32:00         Category-96       Product-87b2   \n",
       "14 2024-11-25 16:42:00         Category-82       Product-91f3   \n",
       "16 2024-11-25 16:42:00         Category-78       Product-b409   \n",
       "24 2024-05-23 20:22:00         Category-91       Product-32b3   \n",
       "\n",
       "   ANONYMIZED BUSINESS ANONYMIZED LOCATION  QUANTITY  UNIT PRICE  \\\n",
       "0        Business-de42       Location-1ba8         1       850.0   \n",
       "8        Business-de42       Location-1ba8         1       805.0   \n",
       "14       Business-aab8       Location-128a         1       815.0   \n",
       "16       Business-aab8       Location-128a         1       750.0   \n",
       "24       Business-22a2       Location-c2f2         3       640.0   \n",
       "\n",
       "       Month-Year  \n",
       "0     August 2024  \n",
       "8     August 2024  \n",
       "14  November 2024  \n",
       "16  November 2024  \n",
       "24       May 2024  "
      ]
     },
     "execution_count": 35,
     "metadata": {},
     "output_type": "execute_result"
    }
   ],
   "source": [
    "# Check the new column\n",
    "data.head()"
   ]
  },
  {
   "cell_type": "markdown",
   "metadata": {},
   "source": [
    "## (c) Data Validation.\n",
    "This involves verifying if the data values make sense in the context of your project"
   ]
  },
  {
   "cell_type": "markdown",
   "metadata": {},
   "source": [
    "Outliers Detection\n",
    "Using boxplots and  to identify unusually high or low values."
   ]
  },
  {
   "cell_type": "code",
   "execution_count": 61,
   "metadata": {},
   "outputs": [
    {
     "data": {
      "text/html": [
       "<div>\n",
       "<style scoped>\n",
       "    .dataframe tbody tr th:only-of-type {\n",
       "        vertical-align: middle;\n",
       "    }\n",
       "\n",
       "    .dataframe tbody tr th {\n",
       "        vertical-align: top;\n",
       "    }\n",
       "\n",
       "    .dataframe thead th {\n",
       "        text-align: right;\n",
       "    }\n",
       "</style>\n",
       "<table border=\"1\" class=\"dataframe\">\n",
       "  <thead>\n",
       "    <tr style=\"text-align: right;\">\n",
       "      <th></th>\n",
       "      <th>DATE</th>\n",
       "      <th>QUANTITY</th>\n",
       "      <th>UNIT PRICE</th>\n",
       "    </tr>\n",
       "  </thead>\n",
       "  <tbody>\n",
       "    <tr>\n",
       "      <th>count</th>\n",
       "      <td>54574</td>\n",
       "      <td>54574.000000</td>\n",
       "      <td>54574.000000</td>\n",
       "    </tr>\n",
       "    <tr>\n",
       "      <th>mean</th>\n",
       "      <td>2024-08-09 18:50:59.460182272</td>\n",
       "      <td>1.796753</td>\n",
       "      <td>588.328930</td>\n",
       "    </tr>\n",
       "    <tr>\n",
       "      <th>min</th>\n",
       "      <td>2024-01-01 10:45:00</td>\n",
       "      <td>0.000000</td>\n",
       "      <td>0.000000</td>\n",
       "    </tr>\n",
       "    <tr>\n",
       "      <th>25%</th>\n",
       "      <td>2024-05-22 08:39:00</td>\n",
       "      <td>1.000000</td>\n",
       "      <td>365.000000</td>\n",
       "    </tr>\n",
       "    <tr>\n",
       "      <th>50%</th>\n",
       "      <td>2024-09-04 19:40:00</td>\n",
       "      <td>1.000000</td>\n",
       "      <td>663.000000</td>\n",
       "    </tr>\n",
       "    <tr>\n",
       "      <th>75%</th>\n",
       "      <td>2024-11-01 21:21:00</td>\n",
       "      <td>2.000000</td>\n",
       "      <td>814.000000</td>\n",
       "    </tr>\n",
       "    <tr>\n",
       "      <th>max</th>\n",
       "      <td>2024-12-31 18:22:00</td>\n",
       "      <td>80.000000</td>\n",
       "      <td>995.000000</td>\n",
       "    </tr>\n",
       "    <tr>\n",
       "      <th>std</th>\n",
       "      <td>NaN</td>\n",
       "      <td>2.309987</td>\n",
       "      <td>254.176147</td>\n",
       "    </tr>\n",
       "  </tbody>\n",
       "</table>\n",
       "</div>"
      ],
      "text/plain": [
       "                                DATE      QUANTITY    UNIT PRICE\n",
       "count                          54574  54574.000000  54574.000000\n",
       "mean   2024-08-09 18:50:59.460182272      1.796753    588.328930\n",
       "min              2024-01-01 10:45:00      0.000000      0.000000\n",
       "25%              2024-05-22 08:39:00      1.000000    365.000000\n",
       "50%              2024-09-04 19:40:00      1.000000    663.000000\n",
       "75%              2024-11-01 21:21:00      2.000000    814.000000\n",
       "max              2024-12-31 18:22:00     80.000000    995.000000\n",
       "std                              NaN      2.309987    254.176147"
      ]
     },
     "execution_count": 61,
     "metadata": {},
     "output_type": "execute_result"
    }
   ],
   "source": [
    "data.describe()"
   ]
  },
  {
   "cell_type": "code",
   "execution_count": 62,
   "metadata": {},
   "outputs": [
    {
     "data": {
      "image/png": "[encoded data removed]",
      "text/plain": [
       "<Figure size 640x480 with 1 Axes>"
      ]
     },
     "metadata": {},
     "output_type": "display_data"
    },
    {
     "data": {
      "image/png": "[encoded data removed]",
      "text/plain": [
       "<Figure size 640x480 with 1 Axes>"
      ]
     },
     "metadata": {},
     "output_type": "display_data"
    }
   ],
   "source": [
    "\n",
    "# Check for outliers in QUANTITY\n",
    "sns.boxplot(x=data['QUANTITY'])\n",
    "plt.title('Boxplot of Quantity')\n",
    "plt.show()\n",
    "\n",
    "# Check for outliers in UNIT PRICE\n",
    "sns.boxplot(x=data['UNIT PRICE'])\n",
    "plt.title('Boxplot of Unit Price')\n",
    "plt.show()"
   ]
  },
  {
   "cell_type": "markdown",
   "metadata": {},
   "source": [
    "- Action Taken\n",
    "No outliers were removed, as they represent valid observations and provide valuable insights into the dataset's range and variability."
   ]
  },
  {
   "cell_type": "markdown",
   "metadata": {},
   "source": [
    " Date Validation\n",
    "Verify the DATE column has valid entries and ensure they fall within a reasonable range"
   ]
  },
  {
   "cell_type": "code",
   "execution_count": 63,
   "metadata": {},
   "outputs": [
    {
     "name": "stdout",
     "output_type": "stream",
     "text": [
      "Min date: 2024-01-01 10:45:00, Max date: 2024-12-31 18:22:00\n"
     ]
    }
   ],
   "source": [
    "# Check for invalid dates\n",
    "print(f\"Min date: {data['DATE'].min()}, Max date: {data['DATE'].max()}\")"
   ]
  },
  {
   "cell_type": "markdown",
   "metadata": {},
   "source": [
    "Consistency in Categorical Data\n",
    "To ensure consistency across the dataset, we created a function that standardizes specified columns by removing extra spaces and converting text to lowercase. This is applied to the following columns: \n",
    "\n",
    "&#10003; ANONYMIZED CATEGORY \n",
    "\n",
    "&#10003; ANONYMIZED PRODUCT \n",
    "\n",
    "&#10003; ANONYMIZED BUSINESS\n",
    "\n",
    "&#10003; ANONYMIZED LOCATION"
   ]
  },
  {
   "cell_type": "code",
   "execution_count": 64,
   "metadata": {},
   "outputs": [
    {
     "data": {
      "text/html": [
       "<div>\n",
       "<style scoped>\n",
       "    .dataframe tbody tr th:only-of-type {\n",
       "        vertical-align: middle;\n",
       "    }\n",
       "\n",
       "    .dataframe tbody tr th {\n",
       "        vertical-align: top;\n",
       "    }\n",
       "\n",
       "    .dataframe thead th {\n",
       "        text-align: right;\n",
       "    }\n",
       "</style>\n",
       "<table border=\"1\" class=\"dataframe\">\n",
       "  <thead>\n",
       "    <tr style=\"text-align: right;\">\n",
       "      <th></th>\n",
       "      <th>DATE</th>\n",
       "      <th>ANONYMIZED CATEGORY</th>\n",
       "      <th>ANONYMIZED PRODUCT</th>\n",
       "      <th>ANONYMIZED BUSINESS</th>\n",
       "      <th>ANONYMIZED LOCATION</th>\n",
       "      <th>QUANTITY</th>\n",
       "      <th>UNIT PRICE</th>\n",
       "      <th>Month-Year</th>\n",
       "    </tr>\n",
       "  </thead>\n",
       "  <tbody>\n",
       "    <tr>\n",
       "      <th>0</th>\n",
       "      <td>2024-08-18 21:32:00</td>\n",
       "      <td>category-106</td>\n",
       "      <td>product-21f4</td>\n",
       "      <td>business-de42</td>\n",
       "      <td>location-1ba8</td>\n",
       "      <td>1</td>\n",
       "      <td>850.0</td>\n",
       "      <td>August 2024</td>\n",
       "    </tr>\n",
       "    <tr>\n",
       "      <th>8</th>\n",
       "      <td>2024-08-18 21:32:00</td>\n",
       "      <td>category-96</td>\n",
       "      <td>product-87b2</td>\n",
       "      <td>business-de42</td>\n",
       "      <td>location-1ba8</td>\n",
       "      <td>1</td>\n",
       "      <td>805.0</td>\n",
       "      <td>August 2024</td>\n",
       "    </tr>\n",
       "    <tr>\n",
       "      <th>14</th>\n",
       "      <td>2024-11-25 16:42:00</td>\n",
       "      <td>category-82</td>\n",
       "      <td>product-91f3</td>\n",
       "      <td>business-aab8</td>\n",
       "      <td>location-128a</td>\n",
       "      <td>1</td>\n",
       "      <td>815.0</td>\n",
       "      <td>November 2024</td>\n",
       "    </tr>\n",
       "    <tr>\n",
       "      <th>16</th>\n",
       "      <td>2024-11-25 16:42:00</td>\n",
       "      <td>category-78</td>\n",
       "      <td>product-b409</td>\n",
       "      <td>business-aab8</td>\n",
       "      <td>location-128a</td>\n",
       "      <td>1</td>\n",
       "      <td>750.0</td>\n",
       "      <td>November 2024</td>\n",
       "    </tr>\n",
       "    <tr>\n",
       "      <th>24</th>\n",
       "      <td>2024-05-23 20:22:00</td>\n",
       "      <td>category-91</td>\n",
       "      <td>product-32b3</td>\n",
       "      <td>business-22a2</td>\n",
       "      <td>location-c2f2</td>\n",
       "      <td>3</td>\n",
       "      <td>640.0</td>\n",
       "      <td>May 2024</td>\n",
       "    </tr>\n",
       "  </tbody>\n",
       "</table>\n",
       "</div>"
      ],
      "text/plain": [
       "                  DATE ANONYMIZED CATEGORY ANONYMIZED PRODUCT  \\\n",
       "0  2024-08-18 21:32:00        category-106       product-21f4   \n",
       "8  2024-08-18 21:32:00         category-96       product-87b2   \n",
       "14 2024-11-25 16:42:00         category-82       product-91f3   \n",
       "16 2024-11-25 16:42:00         category-78       product-b409   \n",
       "24 2024-05-23 20:22:00         category-91       product-32b3   \n",
       "\n",
       "   ANONYMIZED BUSINESS ANONYMIZED LOCATION  QUANTITY  UNIT PRICE  \\\n",
       "0        business-de42       location-1ba8         1       850.0   \n",
       "8        business-de42       location-1ba8         1       805.0   \n",
       "14       business-aab8       location-128a         1       815.0   \n",
       "16       business-aab8       location-128a         1       750.0   \n",
       "24       business-22a2       location-c2f2         3       640.0   \n",
       "\n",
       "       Month-Year  \n",
       "0     August 2024  \n",
       "8     August 2024  \n",
       "14  November 2024  \n",
       "16  November 2024  \n",
       "24       May 2024  "
      ]
     },
     "execution_count": 64,
     "metadata": {},
     "output_type": "execute_result"
    }
   ],
   "source": [
    "def clean_column(df, columns):\n",
    "    \"\"\"\n",
    "    Cleans and standardizes specified columns in a DataFrame.\n",
    "    \n",
    "    Parameters:\n",
    "    df (pd.DataFrame): The DataFrame containing the columns to clean.\n",
    "    columns (list): A list of column names to clean.\n",
    "    \n",
    "    Returns:\n",
    "    pd.DataFrame: The DataFrame with cleaned columns.\n",
    "    \"\"\"\n",
    "    for col in columns:\n",
    "        df[col] = df[col].str.strip().str.lower()\n",
    "    return df\n",
    "\n",
    "columns_to_clean = ['ANONYMIZED CATEGORY', 'ANONYMIZED PRODUCT', 'ANONYMIZED BUSINESS', 'ANONYMIZED LOCATION']\n",
    "df = clean_column(data, columns_to_clean)\n",
    "data.head()"
   ]
  },
  {
   "cell_type": "markdown",
   "metadata": {},
   "source": [
    "&#10003; This is a tick mark"
   ]
  }
 ],
 "metadata": {
  "kernelspec": {
   "display_name": "MuniuPaul",
   "language": "python",
   "name": "python3"
  },
  "language_info": {
   "codemirror_mode": {
    "name": "ipython",
    "version": 3
   },
   "file_extension": ".py",
   "mimetype": "text/x-python",
   "name": "python",
   "nbconvert_exporter": "python",
   "pygments_lexer": "ipython3",
   "version": "3.12.3"
  }
 },
 "nbformat": 4,
 "nbformat_minor": 2
}
